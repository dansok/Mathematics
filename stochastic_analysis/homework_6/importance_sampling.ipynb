{
 "cells": [
  {
   "cell_type": "code",
   "execution_count": 7,
   "metadata": {},
   "outputs": [],
   "source": [
    "import matplotlib.pyplot as plt\n",
    "import numpy as np\n",
    "import math\n",
    "\n",
    "\n",
    "def direct_estimator():\n",
    "    c_list = [i / 100 for i in range(14, 3, -1)]\n",
    "    max_attemps = 1000000\n",
    "    relative_error_percent = 5\n",
    "    for c in c_list:\n",
    "        calculated_p_c = 0.5 * (1 - math.erf(1 / math.sqrt(2 * c)))\n",
    "        # Lets take relative error 5%\n",
    "        low_limit = (1 - relative_error_percent / 100) * calculated_p_c\n",
    "        high_limit = (1 + relative_error_percent / 100) * calculated_p_c\n",
    "        greater_than_1 = 0\n",
    "        for m in range(1, max_attemps):\n",
    "            experimental_p_c = greater_than_1 / m\n",
    "            if low_limit <= experimental_p_c <= high_limit:\n",
    "                break\n",
    "            w = 0\n",
    "            for n in range(1, 500):\n",
    "                xi = np.random.normal(0, 1)\n",
    "                z = (n - 0.5) * np.pi\n",
    "                w += xi * np.sin(z * c) / z\n",
    "            w *= math.sqrt(2)\n",
    "            if w > 1:\n",
    "                greater_than_1 += 1\n",
    "        if m < max_attemps - 1:\n",
    "            print(f'It took {m} attempts for {c} to reach the relative error of 5%')\n",
    "        else:\n",
    "            print(f'For {c} no successful events happened in {max_attemps} attempts')\n",
    "            break"
   ]
  },
  {
   "cell_type": "code",
   "execution_count": 8,
   "metadata": {
    "scrolled": false
   },
   "outputs": [
    {
     "name": "stdout",
     "output_type": "stream",
     "text": [
      "It took 760 attempts for 0.14 to reach the relative error of 5%\n",
      "It took 1117 attempts for 0.13 to reach the relative error of 5%\n",
      "It took 979 attempts for 0.12 to reach the relative error of 5%\n",
      "It took 742 attempts for 0.11 to reach the relative error of 5%\n",
      "It took 16478 attempts for 0.1 to reach the relative error of 5%\n",
      "It took 2220 attempts for 0.09 to reach the relative error of 5%\n",
      "It took 4681 attempts for 0.08 to reach the relative error of 5%\n",
      "It took 12129 attempts for 0.07 to reach the relative error of 5%\n",
      "It took 42749 attempts for 0.06 to reach the relative error of 5%\n",
      "It took 245960 attempts for 0.05 to reach the relative error of 5%\n",
      "For 0.04 no successful events happened in 1000000 attempts\n"
     ]
    }
   ],
   "source": [
    "direct_estimator()"
   ]
  },
  {
   "cell_type": "code",
   "execution_count": null,
   "metadata": {},
   "outputs": [],
   "source": [
    "# We see that the number of required attempts grows exponentially as c becomes smaller. \n",
    "# For c=0.05 we couldn't even estimate the probability, as we didn't have a single successful event in 1000000 attempts\n",
    "# That makes sense sinse the probability for c=0.04 is 0.5*(1-erf(1/sqrt(2*c))) = 2.87*10^(-7)"
   ]
  },
  {
   "cell_type": "code",
   "execution_count": null,
   "metadata": {},
   "outputs": [],
   "source": []
  }
 ],
 "metadata": {
  "kernelspec": {
   "display_name": "Python 3",
   "language": "python",
   "name": "python3"
  },
  "language_info": {
   "codemirror_mode": {
    "name": "ipython",
    "version": 3
   },
   "file_extension": ".py",
   "mimetype": "text/x-python",
   "name": "python",
   "nbconvert_exporter": "python",
   "pygments_lexer": "ipython3",
   "version": "3.8.3"
  }
 },
 "nbformat": 4,
 "nbformat_minor": 1
}
