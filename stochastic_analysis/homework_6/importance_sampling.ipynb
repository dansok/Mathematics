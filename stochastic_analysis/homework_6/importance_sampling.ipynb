{
 "cells": [
  {
   "cell_type": "code",
   "execution_count": null,
   "metadata": {
    "id": "n1xBeKHaa3x9"
   },
   "outputs": [],
   "source": [
    "import matplotlib.pyplot as plt\n",
    "import numpy as np\n",
    "import math\n",
    "\n",
    "\n",
    "def direct_estimator():\n",
    "    c_list = [i / 100 for i in range(14, 3, -1)]\n",
    "    max_attemps = 1000000\n",
    "    relative_error_percent = 5\n",
    "    x_axis = []\n",
    "    y_axis = []\n",
    "    M_y_axis = []\n",
    "    pc_list = []\n",
    "    for c in c_list:\n",
    "        calculated_p_c = 0.5 * (1 - math.erf(1 / math.sqrt(2 * c)))\n",
    "        # Lets take relative error 5%\n",
    "        low_limit = (1 - relative_error_percent / 100) * calculated_p_c\n",
    "        high_limit = (1 + relative_error_percent / 100) * calculated_p_c\n",
    "        greater_than_1 = 0\n",
    "        for m in range(1, max_attemps):\n",
    "            experimental_p_c = greater_than_1 / m\n",
    "            if low_limit <= experimental_p_c <= high_limit:\n",
    "                pc_list.append(calculated_p_c)\n",
    "                break\n",
    "            w = 0\n",
    "            for n in range(1, 500):\n",
    "                xi = np.random.normal(0, 1)\n",
    "                z = (n - 0.5) * np.pi\n",
    "                w += xi * np.sin(z * c) / z\n",
    "            w *= math.sqrt(2)\n",
    "            if w > 1:\n",
    "                greater_than_1 += 1\n",
    "        if m < max_attemps - 1:\n",
    "            print(f'It took {m} attempts for {c} to reach the relative error of 5%')\n",
    "            x_axis.insert(0, c)\n",
    "            y_axis.insert(0, m)\n",
    "            # =============================================================================================\n",
    "            # Lets estimate the theoretical number of trials to reach the same relative error\n",
    "            # For 5% we should take 2 deviations. So absolute_error is approximately 2 * sqrt(pc / n),\n",
    "            # and relative_error = 0.05 = (pc - absolute_error) / pc = 1 - absolute_error / pc = 1 - 2 * sqrt(1 / (pc * n))\n",
    "            #  Then n = 4 / (pc * (1 - 0.05)**2)\n",
    "            M_y_axis.insert(0, 4 / (calculated_p_c * 0.95 ** 2 ))\n",
    "            # =============================================================================================\n",
    "        else:\n",
    "            print(f'For {c} no successful events happened in {max_attemps} attempts')\n",
    "            break\n",
    "    plt.plot(x_axis, y_axis, label='empirical M')\n",
    "    plt.plot(x_axis, M_y_axis, label='theoretical M')\n",
    "    plt.title('Number of attempts to reach 5% relative error')\n",
    "    plt.xlabel('c')\n",
    "    plt.ylabel('Number of attempts')\n",
    "    plt.legend()\n",
    "    plt.show()  "
   ]
  },
  {
   "cell_type": "code",
   "execution_count": null,
   "metadata": {
    "colab": {
     "base_uri": "https://localhost:8080/",
     "height": 482
    },
    "id": "9JGjdmuHa3x_",
    "outputId": "fbc31d02-a1b4-4c04-d37f-521f7677824a",
    "scrolled": false
   },
   "outputs": [],
   "source": [
    "direct_estimator()"
   ]
  },
  {
   "cell_type": "code",
   "execution_count": null,
   "metadata": {
    "id": "D5CsTvTWa3yA"
   },
   "outputs": [],
   "source": [
    "# We see that the number of required attempts grows exponentially as c becomes smaller. \n",
    "# For c=0.04 we couldn't even estimate the probability, as we didn't have a single successful event in 1000000 attempts\n",
    "# That makes sense since the probability for c=0.04 is 0.5*(1-erf(1/sqrt(2*c))) = 2.87*10^(-7)"
   ]
  },
  {
   "cell_type": "code",
   "execution_count": null,
   "metadata": {
    "id": "H2erSvp1a3yA"
   },
   "outputs": [],
   "source": [
    "# For the importance sampling, we use the exponential distribution lambda * e^(-lambda*(x-1)).\n",
    "# We select lambda = 1 / sqrt(2*pi*c) so that at x = 1 both exponential and original distributions \n",
    "# will have the same value. To implement the (x - 1) part, we use the regular exponential distribution\n",
    "# from np.random, and then add 1 to the calculated sample. Note, since our sample is >= 1, the random variable is always 1\n",
    "\n",
    "def original_density(c,x):\n",
    "    return 1 / math.sqrt(2*np.pi*c) * np.exp(-x**2 / (2*c))\n",
    "\n",
    "def optimal_importance_sampling():\n",
    "    c_list = [i / 100 for i in range(14, 1, -1)]\n",
    "    max_attemps = 1000000\n",
    "    x_axis = []\n",
    "    y_axis = []\n",
    "    for c in c_list:\n",
    "        def exponential_distribution(x):\n",
    "            rate = 1 / scale\n",
    "            return rate * np.e ** (-rate * x)\n",
    "        scale = math.sqrt(2*np.pi*c)\n",
    "        calculated_p_c = 0.5 * (1 - math.erf(1 / math.sqrt(2 * c)))\n",
    "        # Lets take relative error 5%\n",
    "        low_limit = 0.95 * calculated_p_c\n",
    "        high_limit = 1.05 * calculated_p_c\n",
    "        greater_than_1 = 0\n",
    "        experimental_p_c = 0\n",
    "        for m in range(1, max_attemps):\n",
    "            sample = np.random.exponential(scale)\n",
    "            experimental_p_c += original_density(c, sample + 1) / exponential_distribution(sample)\n",
    "            if low_limit <= experimental_p_c / m <= high_limit:\n",
    "                experimental_p_c /= m\n",
    "                break\n",
    "        if m < max_attemps - 1:\n",
    "            print(f'It took {m} attempts for {c} to reach the relative error of 5%')\n",
    "            x_axis.insert(0, c)\n",
    "            y_axis.insert(0, m)\n",
    "\n",
    "        else:\n",
    "            print(f'For {c} no successful events happened in {max_attemps} attempts')\n",
    "    plt.plot(x_axis, y_axis)  \n",
    "    plt.title('Number of attempts to reach 5% relative error')\n",
    "    plt.xlabel('c')\n",
    "    plt.ylabel('Number of attempts')\n",
    "    plt.show()"
   ]
  },
  {
   "cell_type": "code",
   "execution_count": null,
   "metadata": {
    "colab": {
     "base_uri": "https://localhost:8080/",
     "height": 516
    },
    "id": "Z7git9Tsa3yB",
    "outputId": "1fe85616-2680-4a5c-eb34-55631376b27d",
    "scrolled": true
   },
   "outputs": [],
   "source": [
    "optimal_importance_sampling()"
   ]
  },
  {
   "cell_type": "code",
   "execution_count": null,
   "metadata": {
    "id": "C8BgW2uya3yB"
   },
   "outputs": [],
   "source": [
    "# Using importance sampling, we reduced the number of attempts several orders of magnitude. \n",
    "# We were also able to estimate the probability for the really small c"
   ]
  }
 ],
 "metadata": {
  "accelerator": "GPU",
  "colab": {
   "collapsed_sections": [],
   "name": "importance_sampling.ipynb",
   "provenance": []
  },
  "kernelspec": {
   "display_name": "Python 3",
   "language": "python",
   "name": "python3"
  },
  "language_info": {
   "codemirror_mode": {
    "name": "ipython",
    "version": 3
   },
   "file_extension": ".py",
   "mimetype": "text/x-python",
   "name": "python",
   "nbconvert_exporter": "python",
   "pygments_lexer": "ipython3",
   "version": "3.9.1"
  }
 },
 "nbformat": 4,
 "nbformat_minor": 1
}