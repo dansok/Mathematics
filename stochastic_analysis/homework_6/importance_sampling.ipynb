{
 "cells": [
  {
   "cell_type": "code",
   "execution_count": 1,
   "metadata": {},
   "outputs": [],
   "source": [
    "import matplotlib.pyplot as plt\n",
    "import numpy as np\n",
    "import math\n",
    "\n",
    "\n",
    "def direct_estimator():\n",
    "    c_list = [i / 100 for i in range(15, 5, -1)]\n",
    "    max_attemps = 1000000\n",
    "    relative_error_percent = 5\n",
    "    for c in c_list:\n",
    "        calculated_p_c = 0.5 * (1 - math.erf(1 / math.sqrt(2 * c)))\n",
    "        # Lets take relative error 5%\n",
    "        low_limit = (1 - relative_error_percent / 100) * calculated_p_c\n",
    "        high_limit = (1 + relative_error_percent / 100) * calculated_p_c\n",
    "        greater_than_1 = 0\n",
    "        for m in range(1, max_attemps):\n",
    "            experimental_p_c = greater_than_1 / m\n",
    "            if low_limit <= experimental_p_c <= high_limit:\n",
    "                break\n",
    "            w = 0\n",
    "            for n in range(1, 500):\n",
    "                xi = np.random.normal(0, 1)\n",
    "                z = (n - 0.5) * np.pi\n",
    "                w += xi * np.sin(z * c) / z\n",
    "            w *= math.sqrt(2)\n",
    "            if w > 1:\n",
    "                greater_than_1 += 1\n",
    "        if m < max_attemps - 1:\n",
    "            print(f'It took {m} attempts for {c} to reach the relative error of 5%')\n",
    "        else:\n",
    "            print(f'For {c} no successful events happened in {max_attemps} attempts')"
   ]
  },
  {
   "cell_type": "code",
   "execution_count": null,
   "metadata": {
    "scrolled": false
   },
   "outputs": [
    {
     "name": "stdout",
     "output_type": "stream",
     "text": [
      "It took 11053 attempts for 0.15 to reach the relative error of 5%\n",
      "It took 803 attempts for 0.14 to reach the relative error of 5%\n",
      "It took 687 attempts for 0.13 to reach the relative error of 5%\n"
     ]
    }
   ],
   "source": [
    "direct_estimator()"
   ]
  },
  {
   "cell_type": "code",
   "execution_count": null,
   "metadata": {},
   "outputs": [],
   "source": [
    "# We see that the number of required attempts grows exponentially as c becomes smaller. \n",
    "# For c=0.05 we couldn't even estimate the probability, as we don't have a single successful event in 1000000 attempts\n",
    "# That makes sense sinse the probability for c=0.05 is 0.5*(1-erf(1/sqrt(2*c))) = 3.9*10^(-6)"
   ]
  },
  {
   "cell_type": "code",
   "execution_count": null,
   "metadata": {},
   "outputs": [],
   "source": []
  }
 ],
 "metadata": {
  "kernelspec": {
   "display_name": "Python 3",
   "language": "python",
   "name": "python3"
  },
  "language_info": {
   "codemirror_mode": {
    "name": "ipython",
    "version": 3
   },
   "file_extension": ".py",
   "mimetype": "text/x-python",
   "name": "python",
   "nbconvert_exporter": "python",
   "pygments_lexer": "ipython3",
   "version": "3.8.3"
  }
 },
 "nbformat": 4,
 "nbformat_minor": 1
}
