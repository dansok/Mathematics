{
 "cells": [
  {
   "cell_type": "code",
   "execution_count": 4,
   "metadata": {},
   "outputs": [],
   "source": [
    "import matplotlib.pyplot as plt\n",
    "import numpy as np\n",
    "import math\n",
    "\n",
    "\n",
    "def direct_estimator():\n",
    "    c_list = [i / 100 for i in range(14, 3, -1)]\n",
    "    max_attemps = 1000000\n",
    "    relative_error_percent = 5\n",
    "    x_axis = []\n",
    "    y_axis = []\n",
    "    for c in c_list:\n",
    "        calculated_p_c = 0.5 * (1 - math.erf(1 / math.sqrt(2 * c)))\n",
    "        # Lets take relative error 5%\n",
    "        low_limit = (1 - relative_error_percent / 100) * calculated_p_c\n",
    "        high_limit = (1 + relative_error_percent / 100) * calculated_p_c\n",
    "        greater_than_1 = 0\n",
    "        for m in range(1, max_attemps):\n",
    "            experimental_p_c = greater_than_1 / m\n",
    "            if low_limit <= experimental_p_c <= high_limit:\n",
    "                break\n",
    "            w = 0\n",
    "            for n in range(1, 500):\n",
    "                xi = np.random.normal(0, 1)\n",
    "                z = (n - 0.5) * np.pi\n",
    "                w += xi * np.sin(z * c) / z\n",
    "            w *= math.sqrt(2)\n",
    "            if w > 1:\n",
    "                greater_than_1 += 1\n",
    "        if m < max_attemps - 1:\n",
    "            print(f'It took {m} attempts for {c} to reach the relative error of 5%')\n",
    "            x_axis.insert(0, c)\n",
    "            y_axis.insert(0, m)\n",
    "        else:\n",
    "            print(f'For {c} no successful events happened in {max_attemps} attempts')\n",
    "            break\n",
    "    plt.plot(x_axis, y_axis)  \n",
    "    plt.title('Number of attempts to reach 5% relative error')\n",
    "    plt.xlabel('c')\n",
    "    plt.ylabel('Number of attempts')\n",
    "    plt.show()\n",
    "                \n",
    "            "
   ]
  },
  {
   "cell_type": "code",
   "execution_count": 6,
   "metadata": {
    "scrolled": false
   },
   "outputs": [
    {
     "name": "stdout",
     "output_type": "stream",
     "text": [
      "It took 507 attempts for 0.14 to reach the relative error of 5%\n",
      "It took 687 attempts for 0.13 to reach the relative error of 5%\n",
      "It took 490 attempts for 0.12 to reach the relative error of 5%\n",
      "It took 1497 attempts for 0.11 to reach the relative error of 5%\n",
      "It took 15719 attempts for 0.1 to reach the relative error of 5%\n",
      "It took 2220 attempts for 0.09 to reach the relative error of 5%\n",
      "It took 32764 attempts for 0.08 to reach the relative error of 5%\n",
      "It took 48513 attempts for 0.07 to reach the relative error of 5%\n",
      "It took 235140 attempts for 0.06 to reach the relative error of 5%\n",
      "For 0.05 no successful events happened in 1000000 attempts\n"
     ]
    },
    {
     "data": {
      "image/png": "[encoded data removed]",
      "text/plain": [
       "<Figure size 432x288 with 1 Axes>"
      ]
     },
     "metadata": {
      "needs_background": "light"
     },
     "output_type": "display_data"
    }
   ],
   "source": [
    "direct_estimator()"
   ]
  },
  {
   "cell_type": "code",
   "execution_count": 3,
   "metadata": {},
   "outputs": [],
   "source": [
    "# We see that the number of required attempts grows exponentially as c becomes smaller. \n",
    "# For c=0.04 we couldn't even estimate the probability, as we didn't have a single successful event in 1000000 attempts\n",
    "# That makes sense sinse the probability for c=0.04 is 0.5*(1-erf(1/sqrt(2*c))) = 2.87*10^(-7)"
   ]
  },
  {
   "cell_type": "code",
   "execution_count": 13,
   "metadata": {},
   "outputs": [],
   "source": [
    "# We use the exponential distribution lambda * e^(-lambda*(x-1))\n",
    "# We select lambda 1 / sqrt(2*pi*c) so that at x = 1 both exponential and original distributions \n",
    "# will have the same value. To implement the (x - 1) part, we use the regular exponential distribution\n",
    "# from np.random, and then add 1 to the calculated sample. Note, since our sample is >= 1, the random variable is always 1\n",
    "\n",
    "def original_density(c,x):\n",
    "    return 1 / math.sqrt(2*np.pi*c) * np.e ** (-x**2 / (2*c))\n",
    "\n",
    "def importance_sampling_using_exponential():\n",
    "    c_list = [i / 100 for i in range(14, 1, -1)]\n",
    "    max_attemps = 1000000\n",
    "    for c in c_list:\n",
    "        def exponential_distribution(x):\n",
    "            rate = 1 / scale\n",
    "            return rate * np.e ** (-rate * x)\n",
    "        scale = math.sqrt(2*np.pi*c)\n",
    "        calculated_p_c = 0.5 * (1 - math.erf(1 / math.sqrt(2 * c)))\n",
    "        # Lets take relative error 5%\n",
    "        low_limit = 0.95 * calculated_p_c\n",
    "        high_limit = 1.05 * calculated_p_c\n",
    "        greater_than_1 = 0\n",
    "        experimental_p_c = 0\n",
    "        for m in range(1, max_attemps):\n",
    "            sample = np.random.exponential(scale)\n",
    "            experimental_p_c += original_density(c, sample + 1) / exponential_distribution(sample)\n",
    "            if low_limit <= experimental_p_c / m <= high_limit:\n",
    "                experimental_p_c /= m\n",
    "                break\n",
    "        if m < max_attemps - 1:\n",
    "            print(f'It took {m} attempts for {c} to reach the relative error of 5%')\n",
    "        else:\n",
    "            print(f'For {c} no successful events happened in {max_attemps} attempts')\n"
   ]
  },
  {
   "cell_type": "code",
   "execution_count": 14,
   "metadata": {
    "scrolled": true
   },
   "outputs": [
    {
     "name": "stdout",
     "output_type": "stream",
     "text": [
      "It took 9 attempts for 0.14 to reach the relative error of 5%\n",
      "It took 13 attempts for 0.13 to reach the relative error of 5%\n",
      "It took 24 attempts for 0.12 to reach the relative error of 5%\n",
      "It took 13 attempts for 0.11 to reach the relative error of 5%\n",
      "It took 11 attempts for 0.1 to reach the relative error of 5%\n",
      "It took 1289 attempts for 0.09 to reach the relative error of 5%\n",
      "It took 44 attempts for 0.08 to reach the relative error of 5%\n",
      "It took 38 attempts for 0.07 to reach the relative error of 5%\n",
      "It took 12 attempts for 0.06 to reach the relative error of 5%\n",
      "It took 131 attempts for 0.05 to reach the relative error of 5%\n",
      "It took 23 attempts for 0.04 to reach the relative error of 5%\n",
      "It took 88 attempts for 0.03 to reach the relative error of 5%\n",
      "It took 27 attempts for 0.02 to reach the relative error of 5%\n"
     ]
    }
   ],
   "source": [
    "importance_sampling_using_exponential()"
   ]
  },
  {
   "cell_type": "code",
   "execution_count": null,
   "metadata": {},
   "outputs": [],
   "source": [
    "# Using importance sampling, we reduced the number of attempts several orders of magnitude. \n",
    "# We were also able to estimate the probability for the really small c"
   ]
  }
 ],
 "metadata": {
  "kernelspec": {
   "display_name": "Python 3",
   "language": "python",
   "name": "python3"
  },
  "language_info": {
   "codemirror_mode": {
    "name": "ipython",
    "version": 3
   },
   "file_extension": ".py",
   "mimetype": "text/x-python",
   "name": "python",
   "nbconvert_exporter": "python",
   "pygments_lexer": "ipython3",
   "version": "3.8.3"
  }
 },
 "nbformat": 4,
 "nbformat_minor": 1
}
