{
 "cells": [
  {
   "cell_type": "code",
   "execution_count": 1,
   "id": "iraqi-worth",
   "metadata": {},
   "outputs": [],
   "source": [
    "import matplotlib.pyplot as plt\n",
    "import numpy as np\n",
    "import random"
   ]
  },
  {
   "cell_type": "code",
   "execution_count": 2,
   "id": "applied-morrison",
   "metadata": {},
   "outputs": [],
   "source": [
    "# Since matrix R contains the single non-zero element n in position J, J\n",
    "# the product of A* and R is the matrix having at the J column the J row\n",
    "# from matrix A multiplied by n (let's denote this vector as c), and zeroes in all other places\n",
    "# The final product 2 A* R (Ax - b) will be 2 * c * (Ax - b)[J]\n",
    "# Now, (Ax - b)[J] is (dot product of A[J] and x) - b[J]\n",
    "# The computational cost of this operation is O(n)\n"
   ]
  },
  {
   "cell_type": "code",
   "execution_count": 3,
   "id": "expired-portrait",
   "metadata": {},
   "outputs": [],
   "source": [
    "def solve():\n",
    "    print('Exact solution:')\n",
    "    print(np.linalg.solve(A, b))\n",
    "    # initialize x and g with random values from -1 to 1\n",
    "    x = (np.random.rand(n) - 0.5) * 2.\n",
    "    g = (np.random.rand(n) - 0.5) * 2.\n",
    "    norm = np.linalg.norm(g, 2)\n",
    "    sample_size = 100\n",
    "    iteration_count = 0\n",
    "    # if iteration_count exceeds 1,000,000 we consider the process divergent\n",
    "    x_ticks = []\n",
    "    x_vals = []\n",
    "    while norm > 0.001 and iteration_count < 1000000:\n",
    "        iteration_count += 1\n",
    "        for _ in range(sample_size):\n",
    "            J = random.randrange(0, n)\n",
    "            g += 2 * A[J] * n * (np.dot(A[J], x) - b[J])\n",
    "        g = g / sample_size\n",
    "        x = x - epsilon * g\n",
    "        norm = np.linalg.norm(g, 2)\n",
    "        if iteration_count % 500 == 0:\n",
    "            # print('count', iteration_count, 'norm', norm)\n",
    "            x_ticks.append(iteration_count)\n",
    "            x_vals.append(norm)\n",
    "    print('Calculated solution')\n",
    "    print(x)\n",
    "    print('\\n\\nnorm: ', norm, 'total iterations:', iteration_count)\n",
    "    plt.xlabel('iterations')\n",
    "    plt.ylabel('norm')\n",
    "    plt.title(f'matrix size {n}')\n",
    "    plt.plot(x_ticks, x_vals)\n",
    "    plt.show()"
   ]
  },
  {
   "cell_type": "code",
   "execution_count": 4,
   "id": "false-institute",
   "metadata": {},
   "outputs": [],
   "source": [
    "# Populate the matrix with the random independent Gaussian entries with mean 0 and variance 1/n\n",
    "def randomly_populate_matrix():\n",
    "    for i in range(n):\n",
    "        for j in range(n):\n",
    "            A[i, j] = np.random.normal(0, np.sqrt(1 / n))"
   ]
  },
  {
   "cell_type": "code",
   "execution_count": 5,
   "id": "greater-anime",
   "metadata": {},
   "outputs": [],
   "source": [
    "# Set the globals for the run. Note that we set epsilon 1 / s^2 where s is the largest eigenvalue\n",
    "def set_globals(_n):\n",
    "    global n\n",
    "    global A\n",
    "    global b\n",
    "    n = _n\n",
    "    A = np.empty([n, n])\n",
    "    randomly_populate_matrix()\n",
    "    b = np.empty(n)\n",
    "    b.fill(0)\n",
    "    b[0] = 1\n",
    "    eigvals = np.linalg.eigvals(np.matmul(A.transpose(), A))\n",
    "    maximal_eigval = eigvals.max()\n",
    "    global epsilon\n",
    "    epsilon = 1 / (maximal_eigval ** 2)\n",
    "    print('maximal_eigval', maximal_eigval)\n",
    "    print('epsilon', epsilon)"
   ]
  },
  {
   "cell_type": "code",
   "execution_count": 6,
   "id": "extraordinary-gibson",
   "metadata": {},
   "outputs": [
    {
     "name": "stdout",
     "output_type": "stream",
     "text": [
      "maximal_eigval 4.203140204268404\n",
      "epsilon 0.05660466779958849\n",
      "Exact solution:\n",
      "[-0.58866092 -0.8423886  -0.59081346 -0.24990995 -1.75359838 -1.08425089\n",
      " -0.86038327 -0.56962339 -0.05059327 -0.75578749]\n",
      "Calculated solution\n",
      "[-0.58092847 -0.82979407 -0.52448744 -0.24845588 -1.71289443 -1.10146568\n",
      " -0.86627658 -0.55212545 -0.11299926 -0.70569447]\n",
      "\n",
      "\n",
      "norm:  0.0009742482786445063 total iterations: 4974\n"
     ]
    },
    {
     "data": {
      "image/png": "[encoded data removed]",
      "text/plain": [
       "<Figure size 432x288 with 1 Axes>"
      ]
     },
     "metadata": {
      "needs_background": "light"
     },
     "output_type": "display_data"
    }
   ],
   "source": [
    "# Now lets verify that our algorithm works correctly. To do this, lets run it for randomly populated matrices\n",
    "# of various order and compare with the numpy built in solutuin\n",
    "set_globals(10)\n",
    "solve()"
   ]
  },
  {
   "cell_type": "code",
   "execution_count": 7,
   "id": "obvious-princeton",
   "metadata": {
    "scrolled": true
   },
   "outputs": [
    {
     "name": "stdout",
     "output_type": "stream",
     "text": [
      "maximal_eigval 3.265092069901177\n",
      "epsilon 0.09380136012923525\n",
      "Exact solution:\n",
      "[ 0.1961635  -1.39229341  0.26518897 -0.15652868  0.40345359  1.31194532\n",
      "  0.13622072 -0.13194248  0.62287547 -0.88548435  1.23479922  1.27179637\n",
      " -0.54793031  0.47084317  0.05092408 -0.38555106  0.37795332  0.26613703\n",
      "  0.90979574 -0.5294381 ]\n",
      "Calculated solution\n",
      "[ 0.19901895 -1.40150251  0.2455466  -0.16061624  0.40229545  1.30981907\n",
      "  0.12502989 -0.15654824  0.62543756 -0.86827962  1.22482618  1.27241862\n",
      " -0.55058601  0.45827966  0.06243395 -0.3977086   0.37229711  0.26642588\n",
      "  0.90444977 -0.53468054]\n",
      "\n",
      "\n",
      "norm:  0.0009646020891839304 total iterations: 6707\n"
     ]
    },
    {
     "data": {
      "image/png": "[encoded data removed]",
      "text/plain": [
       "<Figure size 432x288 with 1 Axes>"
      ]
     },
     "metadata": {
      "needs_background": "light"
     },
     "output_type": "display_data"
    }
   ],
   "source": [
    "set_globals(20)\n",
    "solve()"
   ]
  },
  {
   "cell_type": "code",
   "execution_count": 8,
   "id": "finnish-fence",
   "metadata": {},
   "outputs": [
    {
     "name": "stdout",
     "output_type": "stream",
     "text": [
      "maximal_eigval 3.379565596942305\n",
      "epsilon 0.08755445299458306\n",
      "Exact solution:\n",
      "[  3.48887371   9.4685188   -0.80085705   1.86824615  10.33496642\n",
      "  -1.11742291  -1.04678387  -0.14944127  -0.60378015   0.71278039\n",
      "  -1.5666642    7.52209033  -4.43525058  -1.24503401   6.26888378\n",
      "   7.82655829   0.90411006  10.29777172  -1.32979012   3.31524619\n",
      "   5.03423453   0.61007882   5.94048405 -15.88512541   3.58375573\n",
      "  -2.17285975  -2.67591866   3.29227325  -5.37104526  -3.03505808]\n",
      "Calculated solution\n",
      "[  3.45789021   9.39300331  -0.79024329   1.84955602  10.25190435\n",
      "  -1.10628466  -1.04970546  -0.15717438  -0.59837897   0.71016288\n",
      "  -1.5460533    7.45634561  -4.39701843  -1.23147103   6.21764043\n",
      "   7.75517047   0.90775204  10.20982375  -1.31639867   3.28732732\n",
      "   4.99241543   0.60668798   5.89043751 -15.75153227   3.55528569\n",
      "  -2.15454754  -2.65655854   3.25589357  -5.32125409  -3.00548254]\n",
      "\n",
      "\n",
      "norm:  0.0009304622898686539 total iterations: 343745\n"
     ]
    },
    {
     "data": {
      "image/png": "[encoded data removed]",
      "text/plain": [
       "<Figure size 432x288 with 1 Axes>"
      ]
     },
     "metadata": {
      "needs_background": "light"
     },
     "output_type": "display_data"
    }
   ],
   "source": [
    "set_globals(30)\n",
    "solve()"
   ]
  },
  {
   "cell_type": "code",
   "execution_count": null,
   "id": "dynamic-tsunami",
   "metadata": {},
   "outputs": [
    {
     "name": "stdout",
     "output_type": "stream",
     "text": [
      "maximal_eigval 3.900196858954313\n",
      "epsilon 0.06573958279640103\n",
      "Exact solution:\n",
      "[ 2.03635336  0.35656442  1.42984337  2.60689871  6.73632185 -1.96164517\n",
      " -2.83870227 -1.70196931  0.68335838 -0.22347642  2.08575038 -3.91825408\n",
      "  0.12107588  1.71670374  1.96284255 -2.91745197 -1.58436922 -0.16653263\n",
      " -3.88293263  0.91205743 -3.84871383  0.43047252  2.37322084 -1.47073686\n",
      " -0.64058725  3.58724279 -3.62185721 -1.79618184 -0.64588341 -1.406946\n",
      " -1.04003377 -1.96334266  2.69729913 -1.44900768 -2.02404643 -1.77561979\n",
      "  1.12583789 -3.82303901  3.45501188  3.25204675  0.65677592 -2.62254261\n",
      "  1.8814776   2.54750543 -0.38641292  1.3314505  -2.02204136 -2.06847412\n",
      "  3.65680167  3.38062833  0.85186853 -1.22583135 -3.49113912  1.24768086\n",
      " -0.1607962  -1.29603898  1.42830901  0.74133739  2.23467957 -1.40282482\n",
      "  2.10088199  1.55087761 -2.05148885  0.22966577  2.37061882 -0.61459079\n",
      " -0.26088007  0.65244773 -1.76391512 -1.65378735  2.15935808  0.95356425\n",
      " -1.4876208   1.69952089  0.57084171  2.96196713 -1.38127025 -4.30722727\n",
      "  0.97906413  0.5867901  -4.88288965  1.24772124 -5.6951976  -5.07393276\n",
      "  2.44520907 -0.71313956  0.36248507  2.01255541 -1.80496699  1.01725387\n",
      "  1.86418956 -2.61811096 -0.44785635  2.90457646 -1.7794746  -4.30421905\n",
      "  3.52691554 -3.54214508 -4.31908323 -1.14054486]\n"
     ]
    }
   ],
   "source": [
    "set_globals(100)\n",
    "solve()"
   ]
  },
  {
   "cell_type": "code",
   "execution_count": null,
   "id": "harmful-concord",
   "metadata": {},
   "outputs": [],
   "source": [
    "set_globals(500)\n",
    "solve()"
   ]
  },
  {
   "cell_type": "code",
   "execution_count": null,
   "id": "fixed-payday",
   "metadata": {},
   "outputs": [],
   "source": [
    "# We see that the algorithm works. Please note, we selected epsilon = 1/s^2, where s is the largest eigenvalue, \n",
    "# just like in regular Jacobi iteration\n"
   ]
  }
 ],
 "metadata": {
  "kernelspec": {
   "display_name": "Python 3",
   "language": "python",
   "name": "python3"
  },
  "language_info": {
   "codemirror_mode": {
    "name": "ipython",
    "version": 3
   },
   "file_extension": ".py",
   "mimetype": "text/x-python",
   "name": "python",
   "nbconvert_exporter": "python",
   "pygments_lexer": "ipython3",
   "version": "3.8.3"
  }
 },
 "nbformat": 4,
 "nbformat_minor": 5
}
