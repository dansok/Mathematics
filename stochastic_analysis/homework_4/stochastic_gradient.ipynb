{
 "cells": [
  {
   "cell_type": "code",
   "execution_count": null,
   "id": "iraqi-worth",
   "metadata": {
    "id": "iraqi-worth"
   },
   "outputs": [],
   "source": [
    "import matplotlib.pyplot as plt\n",
    "import numpy as np\n",
    "import random"
   ]
  },
  {
   "cell_type": "code",
   "execution_count": 1,
   "id": "applied-morrison",
   "metadata": {
    "id": "applied-morrison"
   },
   "outputs": [],
   "source": [
    "# (1) Since the matrix R contains a single non-zero element n in the (J, J)th entry,\n",
    "# the product A*R is the matrix having at the Jth column, the Jth row\n",
    "# from matrix A multiplied by n (let's denote this vector as c), and zeroes everywhere else.\n",
    "# The final product 2 A* R (Ax - b) = 2 * c * (Ax - b)[J]\n",
    "# Now, (Ax - b)[J] = <A[J], x> - b[J]\n",
    "# The computational cost of this operation is O(n). However, we must perform this \n",
    "# operation several times to take the average. Lets compute the sample size.\n",
    "# We sample uniformly, ~ U({1, ..., n}). The standard deviation is sqrt((n^2 - 1) / 12).\n",
    "# Let m be our sample size, then by the CLT, the distribution of the sample averages is normal,\n",
    "# with standard deviation equal to the original deviation divided by square root of the sample size,\n",
    "# i.e. in our case the standard deviation of the sample averages from the distribution mean\n",
    "# will be sqrt((n^2 - 1) / (12 * m))\n",
    "# Now, say we want the average to be within 5% from the normal distribution mean, with 95% probability\n",
    "# So we have 2 * sigma = 2 * sqrt((n^2 - 1) / (12 * m)) = 0.05 * n\n",
    "# Solving for m, we get m = 1600 / 12 * sqrt(n^2 - 1) / n < 134\n",
    "# So we can take the sample size constant 134, trading off runtime for accuracy\n",
    "# and the resulting algorithm will still have complexity O(n),\n",
    "# with sample averages converging to the distribution mean with high probability\n"
   ]
  },
  {
   "cell_type": "code",
   "execution_count": null,
   "id": "expired-portrait",
   "metadata": {
    "id": "expired-portrait"
   },
   "outputs": [],
   "source": [
    "def solve():\n",
    "    print('Exact solution:')\n",
    "    print(np.linalg.solve(A, b))\n",
    "    # initialize x and g with random values from -1 to 1\n",
    "    x = (np.random.rand(n) - 0.5) * 2.\n",
    "    g = (np.random.rand(n) - 0.5) * 2.\n",
    "    norm = np.linalg.norm(g, 2)\n",
    "    sample_size = 134\n",
    "    iteration_count = 0\n",
    "    # if iteration_count exceeds 1,000,000 we consider the process divergent\n",
    "    x_ticks = []\n",
    "    x_vals = []\n",
    "    while norm > 0.001 and iteration_count < 1000000:\n",
    "        iteration_count += 1\n",
    "        for _ in range(sample_size):\n",
    "            J = random.randrange(0, n)\n",
    "            g += 2 * A[J] * n * (np.dot(A[J], x) - b[J])\n",
    "        g = g / sample_size\n",
    "        x = x - epsilon * g\n",
    "        norm = np.linalg.norm(g, 2)\n",
    "        if iteration_count % 500 == 0:\n",
    "            # print('count', iteration_count, 'norm', norm)\n",
    "            x_ticks.append(iteration_count)\n",
    "            x_vals.append(norm)\n",
    "    print('Calculated solution')\n",
    "    print(x)\n",
    "    print('\\n\\nnorm: ', norm, 'total iterations:', iteration_count)\n",
    "    plt.xlabel('iterations')\n",
    "    plt.ylabel('norm')\n",
    "    plt.title(f'matrix size {n}')\n",
    "    plt.plot(x_ticks, x_vals)\n",
    "    plt.show()"
   ]
  },
  {
   "cell_type": "code",
   "execution_count": null,
   "id": "false-institute",
   "metadata": {
    "id": "false-institute"
   },
   "outputs": [],
   "source": [
    "# Populate the matrix with the random independent Gaussian entries with mean 0 and variance 1/n\n",
    "def randomly_populate_matrix():\n",
    "    for i in range(n):\n",
    "        for j in range(n):\n",
    "            A[i, j] = np.random.normal(0, np.sqrt(1 / n))"
   ]
  },
  {
   "cell_type": "code",
   "execution_count": null,
   "id": "greater-anime",
   "metadata": {
    "id": "greater-anime"
   },
   "outputs": [],
   "source": [
    "# Set the globals for the run. Note that we set epsilon 1 / s^2 where s is the largest eigenvalue\n",
    "def set_globals(_n):\n",
    "    global n\n",
    "    global A\n",
    "    global b\n",
    "    n = _n\n",
    "    A = np.empty([n, n])\n",
    "    randomly_populate_matrix()\n",
    "    b = np.empty(n)\n",
    "    b.fill(0)\n",
    "    b[0] = 1\n",
    "    eigvals = np.linalg.eigvals(np.matmul(A.transpose(), A))\n",
    "    maximal_eigval = eigvals.max()\n",
    "    global epsilon\n",
    "    epsilon = 1 / (maximal_eigval ** 2)\n",
    "    print('maximal_eigval', maximal_eigval)\n",
    "    print('epsilon', epsilon)"
   ]
  },
  {
   "cell_type": "code",
   "execution_count": null,
   "id": "extraordinary-gibson",
   "metadata": {
    "colab": {
     "base_uri": "https://localhost:8080/",
     "height": 482
    },
    "id": "extraordinary-gibson",
    "outputId": "0f1345c4-9d5b-4d17-fa8b-9fc1ddac2167"
   },
   "outputs": [
    {
     "name": "stdout",
     "output_type": "stream",
     "text": [
      "maximal_eigval 3.5426021120050137\n",
      "epsilon 0.07968108618014327\n",
      "Exact solution:\n",
      "[-0.40063981 -0.82445332 -1.31011786 -0.90603146  1.58772065 -0.25340649\n",
      " -0.37155982 -1.65228792  0.06844963 -0.37852431]\n",
      "Calculated solution\n",
      "[-0.39704027 -0.82100754 -1.30716532 -0.89868276  1.57945995 -0.25437391\n",
      " -0.37032691 -1.63859129  0.06983631 -0.37590475]\n",
      "\n",
      "\n",
      "norm:  0.0008507865546992023 total iterations: 1715\n"
     ]
    },
    {
     "data": {
      "image/png": "[encoded data removed]",
      "text/plain": [
       "<Figure size 432x288 with 1 Axes>"
      ]
     },
     "metadata": {
      "needs_background": "light",
      "tags": []
     },
     "output_type": "display_data"
    }
   ],
   "source": [
    "# Now lets verify that our algorithm works correctly. To do this, lets run it for randomly populated matrices\n",
    "# of various order and compare with the numpy built in solutuin\n",
    "set_globals(10)\n",
    "solve()"
   ]
  },
  {
   "cell_type": "code",
   "execution_count": null,
   "id": "obvious-princeton",
   "metadata": {
    "colab": {
     "base_uri": "https://localhost:8080/",
     "height": 550
    },
    "id": "obvious-princeton",
    "outputId": "d82508ea-7c27-4a1b-e160-91b68c6b6163",
    "scrolled": true
   },
   "outputs": [
    {
     "name": "stdout",
     "output_type": "stream",
     "text": [
      "maximal_eigval 3.4953972156732975\n",
      "epsilon 0.0818477844816949\n",
      "Exact solution:\n",
      "[-0.68577788  1.95748694  0.22368729 -0.54934081 -0.32713821 -1.16840558\n",
      " -0.33752536  0.63349564  0.60875801  0.48248025  0.33508893 -0.06852655\n",
      " -0.46474528  0.10347022 -0.18943685  1.17539032 -0.05942428  0.62753369\n",
      " -0.36493763  0.57071618]\n",
      "Calculated solution\n",
      "[-0.6801527   1.94994619  0.21252183 -0.55257258 -0.32448895 -1.15891195\n",
      " -0.34124479  0.63389373  0.6071186   0.47247419  0.33288706 -0.07151603\n",
      " -0.46242612  0.10283289 -0.18798914  1.175082   -0.06366885  0.62858209\n",
      " -0.35357732  0.57128782]\n",
      "\n",
      "\n",
      "norm:  0.0009790032271048148 total iterations: 3481\n"
     ]
    },
    {
     "data": {
      "image/png": "[encoded data removed]",
      "text/plain": [
       "<Figure size 432x288 with 1 Axes>"
      ]
     },
     "metadata": {
      "needs_background": "light",
      "tags": []
     },
     "output_type": "display_data"
    }
   ],
   "source": [
    "set_globals(20)\n",
    "solve()"
   ]
  },
  {
   "cell_type": "code",
   "execution_count": null,
   "id": "finnish-fence",
   "metadata": {
    "colab": {
     "base_uri": "https://localhost:8080/",
     "height": 584
    },
    "id": "finnish-fence",
    "outputId": "1e5ee11a-aa8e-4812-b3c0-c6e298bae1d2"
   },
   "outputs": [
    {
     "name": "stdout",
     "output_type": "stream",
     "text": [
      "maximal_eigval 4.023265253301853\n",
      "epsilon 0.06177925503011108\n",
      "Exact solution:\n",
      "[-0.34811625 -0.37009844 -0.45976761  0.2529551   0.15050231  0.88159619\n",
      " -1.13732181  1.12976405 -0.36081873 -0.08403936  0.19664596  0.34052937\n",
      "  0.70789368 -0.232008   -0.29106414 -0.07721848  0.70480316 -0.10150773\n",
      " -0.62795015 -0.74840428  0.03959405 -0.26878775  0.38246828 -0.47973824\n",
      "  0.49329079  0.14662    -0.04805834  0.59424065  0.10660538  0.16376467]\n",
      "Calculated solution\n",
      "[-0.33759724 -0.37479345 -0.46760923  0.25089157  0.14576428  0.8576442\n",
      " -1.13557803  1.12449249 -0.37561001 -0.07475287  0.20097111  0.32255481\n",
      "  0.69803307 -0.24381655 -0.28804533 -0.0645573   0.70127189 -0.09186502\n",
      " -0.63548068 -0.73846961  0.04219894 -0.28004874  0.35683201 -0.46730909\n",
      "  0.49683446  0.14485034 -0.05301225  0.55822638  0.10848938  0.18689744]\n",
      "\n",
      "\n",
      "norm:  0.0009768084245780101 total iterations: 37877\n"
     ]
    },
    {
     "data": {
      "image/png": "[encoded data removed]",
      "text/plain": [
       "<Figure size 432x288 with 1 Axes>"
      ]
     },
     "metadata": {
      "needs_background": "light",
      "tags": []
     },
     "output_type": "display_data"
    }
   ],
   "source": [
    "set_globals(30)\n",
    "solve()"
   ]
  },
  {
   "cell_type": "code",
   "execution_count": null,
   "id": "dynamic-tsunami",
   "metadata": {
    "colab": {
     "base_uri": "https://localhost:8080/",
     "height": 1000
    },
    "id": "dynamic-tsunami",
    "outputId": "f1adc97f-d595-4549-e7b3-4c3b2ba13bbf"
   },
   "outputs": [
    {
     "name": "stdout",
     "output_type": "stream",
     "text": [
      "maximal_eigval 3.6981143633760007\n",
      "epsilon 0.0731205290535172\n",
      "Exact solution:\n",
      "[-5.52478818e+00 -1.49788878e+00 -8.16618378e+00  9.90541799e+00\n",
      " -8.47006109e+00  1.91999031e+00 -4.06819870e+00 -8.58710582e+00\n",
      "  2.69248666e+00  1.60397603e+01 -1.51783544e-02  7.43673166e+00\n",
      "  7.62089660e+00  2.82513259e+00 -1.06836296e+01 -1.53325709e+00\n",
      "  2.84438409e+00 -5.22465611e+00  2.49183197e+00  6.00179944e+00\n",
      " -3.57433544e+00  4.97314343e+00 -1.77643686e+00  5.62999945e+00\n",
      " -2.08573981e+00 -7.28200846e+00 -6.07970610e+00  9.88893090e+00\n",
      "  4.60751206e+00  1.08585033e+01 -1.72636869e+00  3.81523771e+00\n",
      "  2.72383967e-01  1.76412977e+01  6.18906122e+00 -1.06082939e+00\n",
      " -1.22208044e+00 -8.80530618e-01  5.92265548e-02 -6.22328087e+00\n",
      " -3.71220986e+00 -3.51250212e+00  4.07732680e+00  4.94820408e+00\n",
      "  7.86209658e+00 -7.05593385e+00  5.32615816e+00 -2.04656039e-01\n",
      "  5.99873153e+00  6.44282962e+00 -1.29993424e+00  7.06225721e+00\n",
      "  1.39589897e+01 -5.27606835e+00  8.91907044e+00 -4.15132270e+00\n",
      " -6.54152232e+00  1.57411180e+01  4.85186096e+00  3.29794693e+00\n",
      "  1.92221304e+01 -1.73003987e+00  1.81698503e+00  8.39005499e+00\n",
      " -1.04979572e+01  5.75742851e+00  1.80578319e+01  3.23184891e+00\n",
      "  2.60374390e+00 -4.93592258e+00  1.17951701e+01 -1.42518104e+01\n",
      " -3.60325235e-02  3.34654879e+00 -1.12596481e+00  1.41444805e+01\n",
      "  4.59766747e+00  2.79947143e+00 -8.62438760e-01 -5.43639429e+00\n",
      "  3.32225716e+00  9.17812797e+00 -1.34469047e+00  1.46214993e+01\n",
      " -9.63067244e+00 -1.20077044e+00  6.51654178e+00 -1.01317975e+00\n",
      " -5.11965862e-01 -2.48316789e+00  1.49127556e+00  9.78842116e+00\n",
      "  9.19030007e+00 -5.83293297e-01 -5.57011901e-01 -6.44754170e+00\n",
      "  1.18452585e+01 -2.53658599e+00  1.24508159e+01  2.96402823e+00]\n",
      "Calculated solution\n",
      "[-3.94869391e+00 -8.35465034e-01 -5.69861870e+00  6.41863263e+00\n",
      " -5.34661289e+00  1.07395587e+00 -2.84149154e+00 -5.92086982e+00\n",
      "  1.67571090e+00  1.07697984e+01 -1.27265316e-01  5.15763804e+00\n",
      "  5.39855058e+00  1.74549883e+00 -7.07068770e+00 -9.24205079e-01\n",
      "  2.02627719e+00 -3.48420037e+00  1.79767106e+00  3.95759450e+00\n",
      " -1.99536382e+00  3.67209747e+00 -9.42876772e-01  3.92522995e+00\n",
      " -1.68331273e+00 -4.85505732e+00 -4.22887379e+00  6.58942459e+00\n",
      "  3.29648625e+00  6.99153192e+00 -1.32813385e+00  2.62221784e+00\n",
      "  3.85765683e-01  1.19517089e+01  3.74643839e+00 -6.66698297e-01\n",
      " -5.45865960e-01 -8.49824086e-01 -4.57681639e-03 -4.20565531e+00\n",
      " -2.72924812e+00 -2.47574228e+00  2.72212904e+00  3.53028745e+00\n",
      "  5.46039218e+00 -4.89393361e+00  3.61829016e+00 -2.36157541e-01\n",
      "  3.68222835e+00  4.26351787e+00 -8.04432886e-01  4.96844199e+00\n",
      "  9.23456821e+00 -3.41258603e+00  6.11350676e+00 -3.03070945e+00\n",
      " -4.49045285e+00  1.07076932e+01  3.25352857e+00  2.11228828e+00\n",
      "  1.30580780e+01 -1.51562093e+00  1.09913180e+00  5.40878646e+00\n",
      " -6.98141417e+00  3.51217299e+00  1.20466761e+01  2.51361838e+00\n",
      "  1.62833481e+00 -3.37508160e+00  8.21206530e+00 -9.71911245e+00\n",
      " -1.24072150e-01  2.41091210e+00 -3.41285768e-01  9.93780986e+00\n",
      "  2.73939440e+00  2.13238410e+00 -4.15846134e-01 -3.28786536e+00\n",
      "  2.19248014e+00  6.32265443e+00 -7.08920865e-01  9.93658918e+00\n",
      " -6.39208613e+00 -8.94832875e-01  4.19363685e+00 -7.08153416e-01\n",
      " -5.43031985e-01 -1.96632680e+00  1.03664012e+00  6.70704929e+00\n",
      "  6.35607046e+00 -3.38536358e-01 -3.86061972e-01 -4.49639161e+00\n",
      "  7.91934438e+00 -1.58869623e+00  8.66185071e+00  1.79369138e+00]\n",
      "\n",
      "\n",
      "norm:  0.16171992998802723 total iterations: 1000000\n"
     ]
    },
    {
     "data": {
      "image/png": "[encoded data removed]",
      "text/plain": [
       "<Figure size 432x288 with 1 Axes>"
      ]
     },
     "metadata": {
      "needs_background": "light",
      "tags": []
     },
     "output_type": "display_data"
    }
   ],
   "source": [
    "set_globals(100)\n",
    "solve()"
   ]
  },
  {
   "cell_type": "code",
   "execution_count": null,
   "id": "harmful-concord",
   "metadata": {
    "colab": {
     "base_uri": "https://localhost:8080/",
     "height": 1000
    },
    "id": "harmful-concord",
    "outputId": "3e9024a7-7b2c-4e0d-a32e-831c5c5ddd5e"
   },
   "outputs": [
    {
     "name": "stdout",
     "output_type": "stream",
     "text": [
      "maximal_eigval 3.899618030955921\n",
      "epsilon 0.06575909995673991\n",
      "Exact solution:\n",
      "[ 1.66257325e+00  5.32364591e-02 -5.96008873e+00  3.01582397e+00\n",
      " -8.94012241e-01 -2.49654540e+00 -4.83156504e-01  3.64570426e+00\n",
      " -1.36959904e+00  2.44419560e+00  1.30305988e+00 -2.38694632e+00\n",
      " -4.30245844e+00  5.50470180e-01 -2.97468330e+00  6.41328351e+00\n",
      "  2.59118995e+00 -5.74093281e+00 -1.56753492e+00 -3.71659957e+00\n",
      " -7.29578738e+00 -1.13136703e+01 -1.87657636e+00  8.58780435e+00\n",
      "  6.24085688e+00  1.99791330e+00 -6.18088375e+00 -5.35860351e+00\n",
      "  2.07492169e-01  2.77150617e+00  6.51676509e-02 -3.84719678e+00\n",
      " -3.44526699e+00  2.45206102e-01  4.47678605e+00  7.22541379e-01\n",
      "  3.02316443e+00  6.31472663e+00 -3.81111279e-01 -1.04195220e+00\n",
      "  2.74138255e+00  5.53258877e+00  2.26024719e-01 -1.09635379e+00\n",
      " -6.08171110e-01 -1.29396597e+00  3.28141727e-02 -2.26254316e-01\n",
      " -2.13954581e+00 -4.24386906e+00 -3.26299448e+00 -1.55743451e+00\n",
      " -1.39271099e+00 -3.89624837e+00 -7.77120936e+00  1.61704127e+00\n",
      "  2.90646460e+00 -1.33410082e+00  2.44706027e+00  5.82665315e-01\n",
      " -3.67437304e+00 -2.02360778e+00  4.29679921e+00 -3.76231034e-01\n",
      " -2.32154703e+00 -1.99815007e+00 -5.39685435e-01  3.75901301e+00\n",
      "  1.44408025e+00  5.92782689e+00  6.49455143e-01 -5.78704198e-01\n",
      " -9.41361316e-01 -1.56282716e+00 -1.75384300e+00  3.98206759e+00\n",
      "  5.98591986e+00  2.86410791e-01 -4.00657213e-01  4.30750421e+00\n",
      " -8.47607442e-01 -9.18964683e-02  1.08916191e+00 -2.23909150e+00\n",
      "  2.71232224e+00 -3.24573860e+00 -7.14351450e+00  3.24557070e+00\n",
      " -5.37108943e+00 -5.10193521e+00  1.73133137e-01 -2.69319526e-01\n",
      "  4.02865784e-01  4.16646388e+00 -3.37803724e+00  7.94486045e-01\n",
      " -6.34102110e+00 -4.95142262e+00  5.50070605e+00 -8.12952240e-01\n",
      "  2.28742091e+00 -1.68025881e+00  1.15597379e+00 -3.13077096e+00\n",
      " -7.32885117e+00 -2.63550399e+00 -3.98259481e-01  2.09089044e+00\n",
      "  4.80083641e+00 -1.80751203e+00 -5.01502424e+00 -2.83872308e+00\n",
      "  5.44384816e+00 -3.52127252e+00  1.85080188e+00  4.47171470e+00\n",
      " -5.15503494e+00  4.65979154e+00 -1.33128936e+00  5.30411760e+00\n",
      " -2.36349559e+00 -5.66403561e+00  3.34209971e+00  3.60480641e+00\n",
      " -1.26979086e+00  4.91288262e+00 -1.65245613e+00  1.89448357e+00\n",
      "  3.04411472e+00 -1.99925113e+00  1.04043681e+00  1.99335424e+00\n",
      " -3.87831473e+00 -1.32131037e+00 -6.03726951e-01 -3.31897018e+00\n",
      "  2.42185969e+00  1.90021515e+00 -4.79308597e+00  3.63727788e+00\n",
      "  2.21617550e+00 -2.12729002e+00 -5.38089574e-01 -2.10870737e+00\n",
      "  8.29360029e+00 -2.84780766e-01 -1.59902954e-01 -2.65064947e+00\n",
      " -1.15605574e+00  2.59826068e+00 -1.97373356e+00  3.48527544e-01\n",
      "  3.63519848e+00 -4.38428294e+00  2.67699689e+00 -4.29434853e+00\n",
      " -4.04374435e+00 -7.41599261e+00  2.67040983e+00  1.26761465e+00\n",
      "  5.16015677e-01 -2.82910962e-01  2.52509263e+00 -5.55085654e+00\n",
      "  2.34110753e+00  1.83696884e+00  4.32024122e+00 -3.70131556e+00\n",
      "  8.05481025e+00 -6.24918152e+00  3.45140237e+00  2.37929109e-01\n",
      "  1.48760478e+00 -2.08697284e+00  2.01056410e+00  2.61696491e+00\n",
      "  7.77511593e-01  3.03320894e+00  7.70922322e+00  1.50087545e+00\n",
      " -2.71407922e+00  3.78511953e+00 -3.34157427e+00  4.44633288e+00\n",
      " -1.85012534e+00 -3.61003853e-01 -3.91094962e+00  1.85102772e+00\n",
      " -4.57305041e+00 -4.27669062e-01  4.38094996e+00 -4.33885134e+00\n",
      "  2.32802011e-01 -3.27278608e+00 -5.28539353e+00 -2.63082427e+00\n",
      " -2.84203844e+00 -3.12614369e+00 -1.55754783e+00  4.61560177e-01\n",
      " -5.97549712e+00 -4.78174815e-01  7.09177456e+00 -3.64221244e+00\n",
      "  6.41507919e+00  9.24571928e-01  3.94660086e-01  7.87348397e-01\n",
      "  4.55706472e+00  5.82424417e-01  1.39935451e-01 -1.14835219e+00\n",
      "  3.29978413e-03 -6.28955309e+00 -5.98200562e+00 -6.66504912e+00\n",
      " -6.81516485e+00 -7.16803325e-02 -1.79791267e+00  3.42789663e+00\n",
      "  1.35172829e+00 -1.48595305e+00  6.75149675e-02 -1.97915899e+00\n",
      "  2.25683194e+00  1.76989584e+00  8.29099330e+00 -3.61830305e+00\n",
      "  1.66883938e+00  4.86306234e+00  7.38987978e+00 -2.16996934e+00\n",
      " -9.44493289e+00 -1.35601303e+00 -5.10246730e-01 -2.88260626e+00\n",
      "  2.02901890e+00 -3.13124577e+00 -2.30748681e+00 -4.93014538e-01\n",
      "  6.77148503e-02  5.38497978e+00 -1.11046537e+00 -1.30099914e+00\n",
      " -1.15893922e+00 -1.67636997e+00 -8.08136050e-01  4.74022088e+00\n",
      " -3.27837741e+00 -7.97622927e-01 -4.31081141e-01  4.12987150e+00\n",
      " -5.03035432e-01  1.64395605e+00 -6.07812619e-01  4.93938520e-01\n",
      " -5.04960595e+00  1.03181712e+00 -9.30004313e-01  5.81983313e+00\n",
      " -3.53960360e+00  3.58803243e+00 -3.51144490e+00 -2.89632124e+00\n",
      "  1.59900616e+00 -3.21372921e+00  1.46398124e+00  4.46601912e-01\n",
      " -5.42244706e+00  1.98192090e-01  2.66466282e+00  5.01196044e+00\n",
      "  2.18624551e+00 -4.61294788e-01 -4.72929410e+00 -8.10721480e+00\n",
      "  1.32438531e-01  3.50916259e+00  4.15814375e-01  5.53270292e+00\n",
      " -3.22956576e+00 -1.97868117e+00 -7.18086487e+00 -2.78841125e+00\n",
      " -1.84867412e+00  4.72031674e-01 -2.87792104e-01 -7.49513194e-01\n",
      " -1.18500676e+00 -2.15331955e+00  1.99226947e+00  1.60245917e-01\n",
      "  1.72534607e+00 -3.50057412e+00 -1.57207536e+00  3.31081562e+00\n",
      "  3.06145739e+00  9.99420546e-01 -1.68384066e+00  2.63143253e+00\n",
      " -3.45539566e+00 -3.08620339e+00  4.14662037e-02 -2.37231138e+00\n",
      "  6.52646138e-01 -2.22095975e+00  9.65837540e-01  1.12738256e+00\n",
      " -2.35754508e+00  5.66514613e+00 -3.30050978e+00  3.73924693e+00\n",
      "  8.41837057e-01  8.36652755e-01 -2.06796154e+00  3.33898206e+00\n",
      "  6.71039580e-01  5.47374442e-01 -3.94802540e+00  2.78977355e+00\n",
      "  1.16052109e+00  3.27516014e-01  3.84192594e+00 -2.33667239e+00\n",
      " -6.80520989e+00  2.43622858e+00 -2.70177490e+00 -1.00509720e-01\n",
      "  3.74620732e-01  3.64155179e+00 -3.21642712e+00 -4.48433227e+00\n",
      "  2.43443980e+00 -6.89481006e+00  4.28811234e-01  7.07659802e-02\n",
      "  2.45991655e+00 -9.86138788e-01 -1.16157597e+00  2.85057878e+00\n",
      "  1.44246749e+00 -6.51667739e+00 -5.60619148e-01  7.07218934e+00\n",
      "  3.31128093e+00 -3.02885439e+00  8.22734481e-02  1.35615106e+00\n",
      "  2.56598209e+00  4.41396810e+00  4.78621055e+00 -6.21604797e+00\n",
      " -4.49210531e+00  1.52029634e+00 -2.93372283e+00 -8.67549125e+00\n",
      " -7.59115552e+00  2.96761938e+00 -5.02543628e-01  4.37819865e+00\n",
      " -1.86634408e-01  6.47401613e+00  8.45001225e+00 -3.06246416e+00\n",
      " -3.92312868e+00  4.89523360e-01  1.06594967e+00  6.20918004e+00\n",
      " -4.94648449e+00 -2.95661885e+00  4.44148632e+00 -5.92070703e+00\n",
      "  2.88796050e+00  6.54231263e-01  1.61986658e-01  3.04028215e+00\n",
      "  5.53152168e+00  4.04994076e+00  1.61557741e+00  2.19438916e-01\n",
      "  1.44231377e+00 -5.31936908e+00  2.76881064e-01 -1.40925898e+00\n",
      "  3.27493447e+00  1.69230125e+00 -3.10683552e+00 -4.13788733e+00\n",
      " -1.60761594e+00 -1.56950988e+00  5.02426784e+00 -1.21648466e+00\n",
      " -2.71874072e+00  6.88733385e+00 -2.82431892e+00 -3.37455223e+00\n",
      " -1.63420154e+00  8.56697175e+00  6.02676383e+00 -6.92128359e+00\n",
      "  1.50438974e+00 -2.34475298e+00 -4.53588446e+00 -4.40791483e+00\n",
      "  2.29014741e-01 -5.16514440e+00  4.43267868e+00 -1.66812647e-01\n",
      " -3.80161956e+00 -4.99807466e+00 -5.25806264e+00 -1.53295225e+00\n",
      " -1.51393101e-01  4.45825229e+00 -5.01469150e+00 -5.76025761e+00\n",
      " -2.23997622e+00 -5.16581773e+00 -1.24673073e+00 -1.91041268e+00\n",
      " -4.44356503e+00 -4.46011141e-01  1.30647713e+00  7.71559950e-01\n",
      " -1.32191308e+00  5.73451627e-01  6.13219686e+00  3.20202222e+00\n",
      "  2.30729517e+00  3.93741780e+00  3.79744694e+00 -7.61112464e-01\n",
      "  7.32178296e-01  3.46309514e+00  4.46007626e+00  2.45302728e-01\n",
      " -4.50286385e+00  5.53830076e+00 -1.65844047e+00 -8.31502141e-01\n",
      " -1.89806012e+00  2.14572096e+00 -8.15109419e+00 -3.14119879e+00\n",
      "  7.47919033e+00 -2.14258260e+00 -1.05097372e+00  4.10856560e+00\n",
      "  1.17285919e+00  9.94862509e-01 -2.29770703e+00  1.26623804e+00\n",
      "  1.50308894e-01 -3.01167037e+00  3.93104493e+00  4.22960059e-01\n",
      "  3.19767912e+00  3.54652116e+00 -1.28338623e+00 -6.60928621e-01\n",
      " -4.30136951e+00  4.27864118e-01 -1.05027958e+00  1.98993099e+00\n",
      "  9.99015990e-01  1.35724876e+00 -8.76033827e+00  2.29992468e+00\n",
      " -1.98364874e+00  1.89515327e+00  3.88360662e+00 -3.68071777e+00\n",
      " -1.16812904e+00  3.82487406e-01 -1.44601694e+00  9.41896838e+00\n",
      "  2.22726979e+00 -3.13456062e+00  3.00685458e+00  2.69205455e+00\n",
      "  3.93367357e+00  6.20211319e+00  1.51093180e+00 -2.18225776e+00\n",
      "  1.83694469e+00 -1.14842584e+00  1.06338228e+01  3.06846771e+00\n",
      " -4.32359041e+00  9.19219950e+00  1.29799954e+00  1.81195860e-01\n",
      " -4.68116379e+00 -2.53585850e+00  2.99513092e+00 -2.90724905e+00\n",
      "  2.09908995e+00  2.49475895e+00 -6.18763448e+00  7.80831160e-01]\n",
      "Calculated solution\n",
      "[ 6.55680419e-02  3.77085916e-01 -1.36540573e+00  5.17112928e-01\n",
      " -7.92689290e-01 -8.81035302e-01 -1.01638650e+00  3.88103749e-01\n",
      " -7.07978109e-01  6.69111241e-01  2.34741180e-01  7.17163839e-01\n",
      "  1.11495856e-02  7.90716169e-02  3.12805104e-01  1.16402234e+00\n",
      "  2.08569641e-01 -1.07681373e+00 -8.50295407e-01 -5.41268339e-01\n",
      " -1.55801302e-01 -8.46046001e-01 -4.02830772e-01  1.02057104e+00\n",
      "  1.84814704e-01  2.78238033e-01 -1.78592608e-01 -1.24172014e+00\n",
      "  6.53061100e-01 -6.54168640e-01 -4.68520082e-01 -3.21341304e-02\n",
      " -9.64894814e-01 -1.05276896e+00 -9.78303534e-02 -3.20742436e-01\n",
      "  2.74535192e-01 -1.05830811e-01 -4.92633332e-01  5.13318103e-01\n",
      "  2.79776497e-01 -1.24142931e+00 -3.24758728e-01  2.25689627e-01\n",
      " -9.20648189e-01  1.20270511e+00  9.67281995e-01 -4.05245483e-01\n",
      " -5.41337932e-01  3.17969314e-01  2.43587216e-01  5.95179204e-01\n",
      " -1.19427029e+00 -5.00356181e-02 -1.25398813e+00 -3.46102970e-01\n",
      "  5.26687351e-01  5.68488629e-01  2.35394918e-01  4.53092244e-01\n",
      "  5.30161033e-02 -3.62079364e-01  6.94164834e-01  2.98785232e-01\n",
      " -1.54947257e+00  2.65090700e-02  1.54445915e-01 -2.04781514e-02\n",
      "  3.24077682e-01  9.41338471e-01 -8.29839009e-01 -1.07888625e+00\n",
      "  1.07752430e+00 -7.83805580e-01  3.89925291e-01  1.13714843e+00\n",
      "  2.41025945e-01  8.56160624e-01 -1.47900139e+00 -3.42354837e-01\n",
      " -9.50083031e-01  7.95610963e-01  8.93602690e-01  3.39331128e-02\n",
      "  3.55278626e-01 -1.84803196e+00  1.03132008e-01 -2.44316700e-01\n",
      " -1.40552586e+00 -3.71152875e-01 -3.28971566e-01 -7.11254348e-01\n",
      "  3.00622279e-01 -4.21635933e-01 -1.50282027e+00 -9.13696239e-01\n",
      "  6.41218089e-01 -8.93308486e-01 -7.06203685e-03  4.63867290e-01\n",
      "  9.69053057e-01  8.87325967e-01 -2.34547647e-02  6.15724872e-01\n",
      " -9.78295742e-01  1.50438473e-01 -2.66363438e-01 -6.62792589e-01\n",
      " -5.76433774e-01 -1.61595248e+00 -1.09324905e+00 -2.67691660e-01\n",
      "  8.64677650e-01  1.79764713e+00  1.93775499e-01  8.90685618e-01\n",
      " -6.71242003e-01  9.15163097e-01 -9.44219074e-01  5.96160046e-01\n",
      " -1.59911364e+00 -3.88135370e-01  6.00294711e-01  3.91358036e-01\n",
      " -6.28924424e-01  2.61912012e-01  2.27784142e-01  3.27781534e-01\n",
      "  2.35003546e-01 -1.06435760e+00 -2.85114037e-01  2.38840972e-01\n",
      " -2.19802166e+00  2.61519770e-01  5.13448160e-01 -1.21789528e+00\n",
      "  2.40380161e+00 -1.01876099e+00  5.91068798e-01  1.82160527e+00\n",
      "  1.23530940e+00 -1.25258465e+00 -6.39085965e-01  8.12936830e-02\n",
      "  1.10496693e+00  4.24821808e-01  3.31873574e-01 -1.96524882e-01\n",
      " -6.34252294e-01  1.89622592e-02 -5.78536700e-01  1.37570338e+00\n",
      " -4.47355898e-01 -1.05293139e+00  7.45450453e-01  1.05713813e+00\n",
      " -2.63843477e-01 -1.59389063e+00 -3.35389361e-01 -3.78212180e-01\n",
      " -1.06698581e+00  1.29500593e+00  4.96620808e-01 -1.22991995e+00\n",
      "  6.48233563e-01  1.86480533e-01  5.58955069e-01 -1.51625353e+00\n",
      "  6.24674284e-01  5.69514556e-01 -3.17578114e-01 -7.75574956e-01\n",
      " -4.71071695e-01 -7.00330153e-01  3.55662841e-01 -1.90873848e+00\n",
      " -1.54021427e-01  1.08703336e-01  1.25194628e+00 -7.71537893e-02\n",
      "  5.80999757e-01 -1.68913911e-01 -6.05586653e-01  1.04868330e+00\n",
      "  9.30773554e-01 -1.68473320e+00  7.31157655e-01 -2.37786383e-01\n",
      "  4.53775495e-02  5.41692414e-01 -2.31598076e-01 -1.79484294e+00\n",
      " -5.44842965e-01 -9.50398413e-01  7.67235152e-01  1.95467164e-01\n",
      "  5.71898073e-01  1.79890221e+00 -1.60037125e+00 -1.44382848e-01\n",
      "  1.26239986e-01  1.36883609e+00 -2.05582534e-02 -5.10852429e-03\n",
      "  1.72904827e-03  9.02920767e-01  7.01421555e-01  4.88921620e-01\n",
      "  9.84874772e-01  1.17621461e-01 -1.19837537e-01 -6.33497320e-01\n",
      " -7.73055581e-01  6.10346530e-01 -8.66860053e-01 -4.16686608e-01\n",
      " -1.60771697e+00  5.81894470e-01  1.42850516e-01  2.96814362e-02\n",
      "  1.18587717e-01  2.12241960e-01 -4.07949034e-01  1.32574794e+00\n",
      "  6.92825038e-01  6.27147153e-01  1.34821299e+00  2.10972727e-02\n",
      "  5.40310586e-01  1.49159869e+00  6.40691208e-01  1.19816733e+00\n",
      " -1.33209684e+00 -6.17288088e-01  3.00981259e-01  5.39886877e-01\n",
      " -1.93263421e-01  2.70699203e-01 -4.01480424e-01  1.26710437e-01\n",
      "  2.57875163e-02 -8.34183922e-01 -1.20216774e-01 -1.24810294e+00\n",
      "  6.07909745e-01 -2.09842806e-01 -9.02161024e-01  3.23207131e-01\n",
      " -9.80359812e-01  6.87442940e-01 -5.85020340e-01 -9.70606753e-01\n",
      " -1.93003001e+00  8.51716005e-01 -6.62642691e-01  1.19656041e+00\n",
      "  9.94151742e-01 -5.31305379e-01 -3.67896365e-01 -2.17856275e-01\n",
      " -4.65367038e-01 -6.46156037e-01  1.29709240e+00 -7.90711657e-01\n",
      " -2.59833558e-01  5.63947312e-01 -4.28761667e-01 -2.77611250e-01\n",
      " -6.09112265e-01  2.71475833e-01  2.87920378e-02  6.33878110e-01\n",
      "  5.41278707e-01 -1.61334009e-01 -1.48983146e+00 -1.61271966e+00\n",
      " -3.36966830e-01  9.67843714e-01  6.42193854e-01 -9.11438152e-02\n",
      "  3.35039401e-01 -1.35139495e+00  1.62234088e-01 -1.03580560e-01\n",
      " -4.33711835e-01 -3.72101717e-01 -4.55466438e-01  2.27866248e-01\n",
      "  3.05684871e-01 -1.60633205e+00 -1.74005628e-01  2.42011012e-01\n",
      "  6.85497993e-01 -5.85548605e-01  5.95574544e-01  1.01908817e-01\n",
      " -1.94239183e-01  1.09519220e-01 -7.15074626e-02  1.04564327e-01\n",
      " -6.69592478e-01  9.15675309e-03 -2.82071777e-01  5.68579231e-01\n",
      "  6.98526171e-01 -8.51854563e-01  4.29092244e-01  9.37361465e-02\n",
      "  8.61633558e-01 -4.45142130e-01 -3.33427274e-01  1.01883765e+00\n",
      " -1.88339443e-01  6.69024042e-01 -2.47168303e-01  1.14172860e+00\n",
      "  9.56442686e-01 -3.65942811e-01  1.60672464e-01  6.56527747e-01\n",
      " -3.71156978e-01 -1.03670946e+00 -1.15412518e+00  2.87957084e-02\n",
      " -2.85038353e-01  3.57085600e-01 -6.47584057e-01  4.98087116e-01\n",
      "  4.86949950e-01  1.08985675e+00 -7.77829248e-02  2.35138750e-01\n",
      " -2.01570715e-01 -3.56339507e-01 -1.05057486e+00 -9.26509477e-01\n",
      "  1.01391035e+00  3.16689819e-01  8.16527430e-01  7.62797534e-01\n",
      "  1.07871074e+00 -1.35676141e-01 -5.44409669e-01  6.26633949e-01\n",
      "  1.43158771e-02  4.74738361e-01 -6.65154575e-01  7.32380515e-02\n",
      " -5.09422826e-01  5.80717772e-01 -4.25827371e-01 -9.13791560e-01\n",
      "  4.34987924e-01  1.14256091e+00 -1.15726337e-01 -7.59126167e-01\n",
      " -1.28507617e+00  5.24352254e-01  3.97668273e-01  3.14916692e-01\n",
      "  9.86779338e-01 -2.70902249e-01  1.11258794e-01  7.30343511e-01\n",
      " -1.77238004e-03  1.06176930e+00  4.62992955e-01 -3.93233106e-01\n",
      "  1.49922437e-01 -3.44713794e-01 -8.15224598e-01 -1.01314297e-01\n",
      " -1.28097296e+00  7.76679060e-01  1.61949099e+00 -7.51161844e-01\n",
      " -2.38559687e-01  1.83304353e+00 -6.83402122e-01  3.42987024e-01\n",
      " -1.89571037e-02  1.45312125e+00  1.08262360e+00  9.46478633e-02\n",
      "  6.87176780e-01 -2.83571625e-02  5.28689989e-03  3.80337477e-01\n",
      "  3.60272984e-01 -2.08724866e-01  5.56120159e-02  3.25729005e-01\n",
      " -7.40849369e-01  6.35856891e-01 -1.42830797e-01  5.81048998e-03\n",
      "  5.48257520e-01  7.12261658e-01 -4.86969008e-01 -8.47571910e-01\n",
      "  2.85872099e-01  9.36000880e-01  1.27461202e+00 -9.33238682e-01\n",
      "  8.39305782e-02  2.83262871e-01 -1.30036220e+00  9.08662537e-02\n",
      " -1.95798519e-01 -9.34700762e-01 -7.42440943e-01  5.56685136e-01\n",
      "  4.57659471e-01  7.85997252e-01  7.07389297e-01 -9.52297934e-01\n",
      " -1.09807861e-01 -9.84681869e-01 -1.21723898e+00  2.05988972e-01\n",
      "  6.09815499e-01 -1.19809215e-01 -1.02043558e+00  1.99334915e-01\n",
      " -6.06955379e-01  6.06710047e-01  2.49484937e-01  1.54554134e+00\n",
      " -5.68927119e-01  8.79426031e-01  1.14581202e+00 -6.23121815e-01\n",
      " -4.88281882e-02  1.64334648e+00  1.59134131e+00 -6.08594234e-01\n",
      "  1.27461976e-01 -6.00241823e-01  2.71377931e-01  2.80307071e-01\n",
      "  2.84194448e-01 -8.91134855e-01 -8.89281371e-01 -9.42312341e-02\n",
      "  5.76892856e-02  5.98260709e-01 -3.99244693e-01 -5.81626342e-02\n",
      " -6.76753710e-02 -7.61277191e-02 -1.01881789e+00  1.17143382e-01\n",
      " -9.00352966e-01 -6.75456331e-01  4.43048487e-01  1.04392431e+00\n",
      "  4.18765927e-01 -1.14263678e+00 -2.36553135e-01  3.73650860e-01\n",
      " -4.35993382e-01 -7.99447752e-01 -1.04514863e+00  5.75233853e-01\n",
      " -1.44853007e+00  9.66958029e-02 -1.04356886e+00  6.41355161e-01\n",
      " -5.35186859e-01 -1.53373842e+00 -7.61221363e-01  3.87927673e-02\n",
      " -7.94172316e-01  6.26871852e-01  3.93283291e-01  2.55761509e-01\n",
      " -1.72026471e-01  5.82553156e-01 -7.16560402e-03  7.42942814e-01\n",
      "  6.63418806e-01 -3.47548774e-01  1.72672968e+00 -9.05935064e-01\n",
      " -2.34276519e-01  2.36290653e-01  9.17766896e-01 -7.65268636e-01\n",
      " -4.36887103e-01  1.17036161e+00 -5.20448858e-01  1.27275037e+00\n",
      " -1.14824121e+00  9.67607046e-01  9.45173134e-01 -1.56909774e+00\n",
      "  5.48972168e-01 -3.45776990e-02 -5.57751726e-02  7.31010204e-01]\n",
      "\n",
      "\n",
      "norm:  0.1883276971770828 total iterations: 1000000\n"
     ]
    },
    {
     "data": {
      "image/png": "[encoded data removed]",
      "text/plain": [
       "<Figure size 432x288 with 1 Axes>"
      ]
     },
     "metadata": {
      "needs_background": "light",
      "tags": []
     },
     "output_type": "display_data"
    }
   ],
   "source": [
    "set_globals(500)\n",
    "solve()"
   ]
  },
  {
   "cell_type": "code",
   "execution_count": null,
   "id": "fixed-payday",
   "metadata": {
    "id": "fixed-payday"
   },
   "outputs": [],
   "source": [
    "# We see that the algorithm works. Note that we selected epsilon = 1/s^2, where s is the largest eigenvalue, \n",
    "# just like in a regular Jacobi iteration\n"
   ]
  }
 ],
 "metadata": {
  "accelerator": "GPU",
  "colab": {
   "collapsed_sections": [],
   "name": "stochastic_gradient.ipynb",
   "provenance": []
  },
  "kernelspec": {
   "display_name": "Python 3",
   "language": "python",
   "name": "python3"
  },
  "language_info": {
   "codemirror_mode": {
    "name": "ipython",
    "version": 3
   },
   "file_extension": ".py",
   "mimetype": "text/x-python",
   "name": "python",
   "nbconvert_exporter": "python",
   "pygments_lexer": "ipython3",
   "version": "3.9.1"
  }
 },
 "nbformat": 4,
 "nbformat_minor": 5
}